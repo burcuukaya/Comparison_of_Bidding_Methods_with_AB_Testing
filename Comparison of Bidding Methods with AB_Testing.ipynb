{
 "cells": [
  {
   "cell_type": "code",
   "execution_count": null,
   "metadata": {},
   "outputs": [],
   "source": [
    "####################### Comparision of Conversion of Bidding Methods with AB Test   #######################\n",
    "\n",
    "##########  Business Problem :\n",
    "\n",
    "# Evaluating which method has higher rate of purchase among maximum bidding and average bidding with AB test\n",
    "\n",
    "\n",
    "##########  Dataset:\n",
    "\n",
    "\n",
    "#  Control Group: Maximum Bidding\n",
    "#  Test Group :  Average Bidding\n",
    "\n",
    "\n",
    "# impression: Advertisement view count\n",
    "# Click: Click counts of the viewed advertisement\n",
    "# Purchase: Number of products purchased after ads clicked\n",
    "# Earning: Earnings after purchased products"
   ]
  },
  {
   "cell_type": "code",
   "execution_count": null,
   "metadata": {},
   "outputs": [],
   "source": [
    "##########  TASK 1 :  Data Preparation and Analysis\n",
    "\n",
    "import pandas as pd\n",
    "import numpy as np\n",
    "import pandas as pd\n",
    "import matplotlib.pyplot as plt\n",
    "from scipy.stats import shapiro, levene, ttest_ind\n",
    "\n",
    "\n",
    "pd.set_option('display.max_columns', None)\n",
    "pd.set_option('display.expand_frame_repr', False)\n",
    "pd.set_option('display.float_format', lambda x: '%.5f' % x)"
   ]
  },
  {
   "cell_type": "code",
   "execution_count": 6,
   "metadata": {},
   "outputs": [],
   "source": [
    "# New variables for test group and control group\n",
    "\n",
    "dataframe_control = pd.read_excel(r\"C:\\Users\\burcu\\OneDrive\\Masaüstü\\DS Miiul\\2.Measurement Problems\\ALIŞTIRMALAR\\1.Case 1 AB Testiyle Bidding Yötemlerinni Karşılaştırılması\\tanıtım ve datasetler\\ab_testing.xlsx\",\n",
    "                                  sheet_name=\"Control Group\")\n",
    "dataframe_test = pd.read_excel(r\"C:\\Users\\burcu\\OneDrive\\Masaüstü\\DS Miiul\\2.Measurement Problems\\ALIŞTIRMALAR\\1.Case 1 AB Testiyle Bidding Yötemlerinni Karşılaştırılması\\tanıtım ve datasetler\\ab_testing.xlsx\",\n",
    "                                   sheet_name=\"Test Group\")\n",
    "\n",
    "df_control = dataframe_control.copy()\n",
    "df_test = dataframe_test.copy()"
   ]
  },
  {
   "cell_type": "code",
   "execution_count": 7,
   "metadata": {},
   "outputs": [
    {
     "name": "stdout",
     "output_type": "stream",
     "text": [
      "##################### Shape #####################\n",
      "(40, 4)\n",
      "##################### Types #####################\n",
      "Impression    float64\n",
      "Click         float64\n",
      "Purchase      float64\n",
      "Earning       float64\n",
      "dtype: object\n",
      "##################### Head #####################\n",
      "    Impression      Click  Purchase    Earning\n",
      "0  82529.45927 6090.07732 665.21125 2311.27714\n",
      "1  98050.45193 3382.86179 315.08489 1742.80686\n",
      "2  82696.02355 4167.96575 458.08374 1797.82745\n",
      "3 109914.40040 4910.88224 487.09077 1696.22918\n",
      "4 108457.76263 5987.65581 441.03405 1543.72018\n",
      "##################### Tail #####################\n",
      "     Impression      Click  Purchase    Earning\n",
      "35 132064.21900 3747.15754 551.07241 2256.97559\n",
      "36  86409.94180 4608.25621 345.04603 1781.35769\n",
      "37 123678.93423 3649.07379 476.16813 2187.72122\n",
      "38 101997.49410 4736.35337 474.61354 2254.56383\n",
      "39 121085.88122 4285.17861 590.40602 1289.30895\n",
      "##################### NA #####################\n",
      "Impression    0\n",
      "Click         0\n",
      "Purchase      0\n",
      "Earning       0\n",
      "dtype: int64\n",
      "##################### Quantiles #####################\n",
      "               0.00000     0.05000     0.50000      0.95000      0.99000      1.00000\n",
      "Impression 45475.94296 79412.01792 99790.70108 132950.53245 143105.79110 147539.33633\n",
      "Click       2189.75316  3367.48426  5001.22060   7374.36120   7761.79511   7959.12507\n",
      "Purchase     267.02894   328.66242   531.20631    748.27076    790.18779    801.79502\n",
      "Earning     1253.98952  1329.57708  1975.16052   2318.52850   2481.30874   2497.29522\n",
      "##################### Shape #####################\n",
      "(40, 4)\n",
      "##################### Types #####################\n",
      "Impression    float64\n",
      "Click         float64\n",
      "Purchase      float64\n",
      "Earning       float64\n",
      "dtype: object\n",
      "##################### Head #####################\n",
      "    Impression      Click  Purchase    Earning\n",
      "0 120103.50380 3216.54796 702.16035 1939.61124\n",
      "1 134775.94336 3635.08242 834.05429 2929.40582\n",
      "2 107806.62079 3057.14356 422.93426 2526.24488\n",
      "3 116445.27553 4650.47391 429.03353 2281.42857\n",
      "4 145082.51684 5201.38772 749.86044 2781.69752\n",
      "##################### Tail #####################\n",
      "     Impression      Click  Purchase    Earning\n",
      "35  79234.91193 6002.21358 382.04712 2277.86398\n",
      "36 130702.23941 3626.32007 449.82459 2530.84133\n",
      "37 116481.87337 4702.78247 472.45373 2597.91763\n",
      "38  79033.83492 4495.42818 425.35910 2595.85788\n",
      "39 102257.45409 4800.06832 521.31073 2967.51839\n",
      "##################### NA #####################\n",
      "Impression    0\n",
      "Click         0\n",
      "Purchase      0\n",
      "Earning       0\n",
      "dtype: int64\n",
      "##################### Quantiles #####################\n",
      "               0.00000     0.05000      0.50000      0.95000      0.99000      1.00000\n",
      "Impression 79033.83492 83150.50378 119291.30077 153178.69106 158245.26380 158605.92048\n",
      "Click       1836.62986  2600.36102   3931.35980   5271.18691   6012.87730   6019.69508\n",
      "Purchase     311.62952   356.69540    551.35573    854.20895    876.57610    889.91046\n",
      "Earning     1939.61124  2080.97621   2544.66611   2931.31145   3091.94089   3171.48971\n"
     ]
    }
   ],
   "source": [
    "# 2. Analysis of Test and Control Groups\n",
    "\n",
    "def check_df(dataframe, head=5):\n",
    "    print(\"##################### Shape #####################\")\n",
    "    print(dataframe.shape)\n",
    "    print(\"##################### Types #####################\")\n",
    "    print(dataframe.dtypes)\n",
    "    print(\"##################### Head #####################\")\n",
    "    print(dataframe.head())\n",
    "    print(\"##################### Tail #####################\")\n",
    "    print(dataframe.tail())\n",
    "    print(\"##################### NA #####################\")\n",
    "    print(dataframe.isnull().sum())\n",
    "    print(\"##################### Quantiles #####################\")\n",
    "    print(dataframe.quantile([0, 0.05, 0.50, 0.95, 0.99, 1]).T)\n",
    "\n",
    "check_df(df_control)\n",
    "check_df(df_test)"
   ]
  },
  {
   "cell_type": "code",
   "execution_count": 9,
   "metadata": {},
   "outputs": [
    {
     "data": {
      "text/html": [
       "<div>\n",
       "<style scoped>\n",
       "    .dataframe tbody tr th:only-of-type {\n",
       "        vertical-align: middle;\n",
       "    }\n",
       "\n",
       "    .dataframe tbody tr th {\n",
       "        vertical-align: top;\n",
       "    }\n",
       "\n",
       "    .dataframe thead th {\n",
       "        text-align: right;\n",
       "    }\n",
       "</style>\n",
       "<table border=\"1\" class=\"dataframe\">\n",
       "  <thead>\n",
       "    <tr style=\"text-align: right;\">\n",
       "      <th></th>\n",
       "      <th>Impression</th>\n",
       "      <th>Click</th>\n",
       "      <th>Purchase</th>\n",
       "      <th>Earning</th>\n",
       "      <th>group</th>\n",
       "    </tr>\n",
       "  </thead>\n",
       "  <tbody>\n",
       "    <tr>\n",
       "      <th>0</th>\n",
       "      <td>82529.45927</td>\n",
       "      <td>6090.07732</td>\n",
       "      <td>665.21125</td>\n",
       "      <td>2311.27714</td>\n",
       "      <td>control</td>\n",
       "    </tr>\n",
       "    <tr>\n",
       "      <th>1</th>\n",
       "      <td>98050.45193</td>\n",
       "      <td>3382.86179</td>\n",
       "      <td>315.08489</td>\n",
       "      <td>1742.80686</td>\n",
       "      <td>control</td>\n",
       "    </tr>\n",
       "    <tr>\n",
       "      <th>2</th>\n",
       "      <td>82696.02355</td>\n",
       "      <td>4167.96575</td>\n",
       "      <td>458.08374</td>\n",
       "      <td>1797.82745</td>\n",
       "      <td>control</td>\n",
       "    </tr>\n",
       "    <tr>\n",
       "      <th>3</th>\n",
       "      <td>109914.40040</td>\n",
       "      <td>4910.88224</td>\n",
       "      <td>487.09077</td>\n",
       "      <td>1696.22918</td>\n",
       "      <td>control</td>\n",
       "    </tr>\n",
       "    <tr>\n",
       "      <th>4</th>\n",
       "      <td>108457.76263</td>\n",
       "      <td>5987.65581</td>\n",
       "      <td>441.03405</td>\n",
       "      <td>1543.72018</td>\n",
       "      <td>control</td>\n",
       "    </tr>\n",
       "  </tbody>\n",
       "</table>\n",
       "</div>"
      ],
      "text/plain": [
       "    Impression      Click  Purchase    Earning    group\n",
       "0  82529.45927 6090.07732 665.21125 2311.27714  control\n",
       "1  98050.45193 3382.86179 315.08489 1742.80686  control\n",
       "2  82696.02355 4167.96575 458.08374 1797.82745  control\n",
       "3 109914.40040 4910.88224 487.09077 1696.22918  control\n",
       "4 108457.76263 5987.65581 441.03405 1543.72018  control"
      ]
     },
     "execution_count": 9,
     "metadata": {},
     "output_type": "execute_result"
    }
   ],
   "source": [
    "# 3. Combine control and test group data\n",
    "\n",
    "df_control[\"group\"] = \"control\"\n",
    "df_test[\"group\"] = \"test\"\n",
    "\n",
    "df = pd.concat([df_control,df_test], axis=0,ignore_index=False)\n",
    "df.head()"
   ]
  },
  {
   "cell_type": "code",
   "execution_count": 10,
   "metadata": {},
   "outputs": [
    {
     "data": {
      "text/html": [
       "<div>\n",
       "<style scoped>\n",
       "    .dataframe tbody tr th:only-of-type {\n",
       "        vertical-align: middle;\n",
       "    }\n",
       "\n",
       "    .dataframe tbody tr th {\n",
       "        vertical-align: top;\n",
       "    }\n",
       "\n",
       "    .dataframe thead th {\n",
       "        text-align: right;\n",
       "    }\n",
       "</style>\n",
       "<table border=\"1\" class=\"dataframe\">\n",
       "  <thead>\n",
       "    <tr style=\"text-align: right;\">\n",
       "      <th></th>\n",
       "      <th>Purchase</th>\n",
       "    </tr>\n",
       "    <tr>\n",
       "      <th>group</th>\n",
       "      <th></th>\n",
       "    </tr>\n",
       "  </thead>\n",
       "  <tbody>\n",
       "    <tr>\n",
       "      <th>control</th>\n",
       "      <td>550.89406</td>\n",
       "    </tr>\n",
       "    <tr>\n",
       "      <th>test</th>\n",
       "      <td>582.10610</td>\n",
       "    </tr>\n",
       "  </tbody>\n",
       "</table>\n",
       "</div>"
      ],
      "text/plain": [
       "         Purchase\n",
       "group            \n",
       "control 550.89406\n",
       "test    582.10610"
      ]
     },
     "execution_count": 10,
     "metadata": {},
     "output_type": "execute_result"
    }
   ],
   "source": [
    "##########  TASK 2 : Defining the A/B Test Hypothesis\n",
    "\n",
    "\n",
    "# H0 : M1 = M2 (Kontrol grubu ve test grubu satın alma ortalamaları arasında fark yoktur.)\n",
    "# H1 : M1!= M2 (Kontrol grubu ve test grubu satın alma ortalamaları arasında fark vardır.)\n",
    "\n",
    "\n",
    "# Analysis of the purchase  averages for the control and test groupdf.groupby(\"group\").agg({\"Purchase\": \"mean\"})\n",
    "\n",
    "df.groupby(\"group\").agg({\"Purchase\": \"mean\"})"
   ]
  },
  {
   "cell_type": "code",
   "execution_count": 11,
   "metadata": {},
   "outputs": [
    {
     "name": "stdout",
     "output_type": "stream",
     "text": [
      "Test Stat = 0.9773, p-value = 0.5891\n"
     ]
    }
   ],
   "source": [
    "##########  TASK 3 : Hypothesis Testing\n",
    "\n",
    "# 1: Normality assumption and variance  are checked before hypotesis testing\n",
    "\n",
    "# Testing ormality assumption according to purchase variable for test and control groups\n",
    "\n",
    "# Normality Assumption :\n",
    "# H0: Normal distribution assumption provided\n",
    "# H1: Normal distribution assumption not provided\n",
    "# p < 0.05 H0 reject\n",
    "# p > 0.05 H0 fail to reject\n",
    "\n",
    "\n",
    "test_stat, pvalue = shapiro(df.loc[df[\"group\"] == \"control\", \"Purchase\"])\n",
    "print('Test Stat = %.4f, p-value = %.4f' % (test_stat, pvalue))"
   ]
  },
  {
   "cell_type": "code",
   "execution_count": null,
   "metadata": {},
   "outputs": [],
   "source": [
    "# p-value=0.5891\n",
    "# HO fail to reject. Control group is normally distributed"
   ]
  },
  {
   "cell_type": "code",
   "execution_count": 12,
   "metadata": {},
   "outputs": [
    {
     "name": "stdout",
     "output_type": "stream",
     "text": [
      "Test Stat = 2.6393, p-value = 0.1083\n"
     ]
    }
   ],
   "source": [
    "#  Homogeneity of Variance\n",
    "# H0: Variances are homogeneous\n",
    "# H1: Variances are not homogeneous\n",
    "# p < 0.05 H0 reject\n",
    "# p > 0.05 H0 fail to reject\n",
    "\n",
    "# Testing homogeneity of variance of test and control groups according to purchase variable \n",
    "\n",
    "test_stat, pvalue = levene(df.loc[df[\"group\"] == \"control\", \"Purchase\"],\n",
    "                           df.loc[df[\"group\"] == \"test\", \"Purchase\"])\n",
    "print('Test Stat = %.4f, p-value = %.4f' % (test_stat, pvalue))"
   ]
  },
  {
   "cell_type": "code",
   "execution_count": null,
   "metadata": {},
   "outputs": [],
   "source": [
    "# p-value=0.1083\n",
    "# HO fail to reject.\n",
    "#Variances are homogeneous in both groups"
   ]
  },
  {
   "cell_type": "code",
   "execution_count": 14,
   "metadata": {},
   "outputs": [
    {
     "name": "stdout",
     "output_type": "stream",
     "text": [
      "Test Stat = -0.9416, p-value = 0.3493\n"
     ]
    }
   ],
   "source": [
    "# 2:\n",
    "\n",
    "# Independent two-sample t-test (parametric test) is applied.\n",
    "# H0: M1 = M2 (There is no statistical difference between the purchase of conrol group and the test group)\n",
    "# H1: M1 != M2 (There is statistical difference between the purchase of control group and the test group)\n",
    "# p<0.05 HO reject , p>0.05 HO fail to reject\n",
    "\n",
    "test_stat, pvalue = ttest_ind(df.loc[df[\"group\"] == \"control\", \"Purchase\"],\n",
    "                              df.loc[df[\"group\"] == \"test\", \"Purchase\"],\n",
    "                              equal_var=True)\n",
    "\n",
    "print('Test Stat = %.4f, p-value = %.4f' % (test_stat, pvalue))"
   ]
  },
  {
   "cell_type": "code",
   "execution_count": null,
   "metadata": {},
   "outputs": [],
   "source": [
    "# p-value=0.3493\n",
    "# HO fail to reject. \n",
    "\n",
    "# There is no statistical difference between the purchase of control group and the test group\n"
   ]
  }
 ],
 "metadata": {
  "kernelspec": {
   "display_name": "Python 3",
   "language": "python",
   "name": "python3"
  },
  "language_info": {
   "codemirror_mode": {
    "name": "ipython",
    "version": 3
   },
   "file_extension": ".py",
   "mimetype": "text/x-python",
   "name": "python",
   "nbconvert_exporter": "python",
   "pygments_lexer": "ipython3",
   "version": "3.8.5"
  }
 },
 "nbformat": 4,
 "nbformat_minor": 4
}
